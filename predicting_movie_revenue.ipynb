{
 "cells": [
  {
   "cell_type": "markdown",
   "metadata": {},
   "source": [
    "##### Problem Statement: In this project, machine learning and deep learning models will be applied to predict a movie’s revenue in the USA."
   ]
  },
  {
   "cell_type": "markdown",
   "metadata": {},
   "source": [
    "### 1-) Importing the Data and Libraries:"
   ]
  },
  {
   "cell_type": "code",
   "execution_count": 1,
   "metadata": {},
   "outputs": [],
   "source": [
    "import numpy as np \n",
    "import pandas as pd \n",
    "import matplotlib.pyplot as plt\n",
    "import seaborn as sb\n",
    "\n",
    "# Reading the csv files\n",
    "X1 = pd.read_csv('X1.csv')\n",
    "X1.drop('Unnamed: 0', inplace=True, axis=1)\n",
    "Y1 = pd.read_csv('Y1.csv', header=None, names =['revenue'])\n",
    "\n",
    "# Creating the dataframe\n",
    "df = X1\n",
    "df['revenue'] = Y1"
   ]
  },
  {
   "cell_type": "markdown",
   "metadata": {},
   "source": [
    "### 2-) Exploratory Data Analysis:"
   ]
  },
  {
   "cell_type": "code",
   "execution_count": 2,
   "metadata": {},
   "outputs": [
    {
     "name": "stdout",
     "output_type": "stream",
     "text": [
      "<class 'pandas.core.frame.DataFrame'>\n",
      "RangeIndex: 3540 entries, 0 to 3539\n",
      "Data columns (total 14 columns):\n",
      " #   Column           Non-Null Count  Dtype  \n",
      "---  ------           --------------  -----  \n",
      " 0   title            3540 non-null   object \n",
      " 1   img_url          3540 non-null   object \n",
      " 2   description      3540 non-null   object \n",
      " 3   ratings          3540 non-null   float64\n",
      " 4   n_votes          3540 non-null   float64\n",
      " 5   is_adult         3540 non-null   int64  \n",
      " 6   production_year  3540 non-null   int64  \n",
      " 7   runtime          3540 non-null   object \n",
      " 8   genres           3540 non-null   object \n",
      " 9   release_year     3540 non-null   float64\n",
      " 10  studio           3540 non-null   object \n",
      " 11  img_embeddings   3540 non-null   object \n",
      " 12  text_embeddings  3540 non-null   object \n",
      " 13  revenue          3540 non-null   float64\n",
      "dtypes: float64(4), int64(2), object(8)\n",
      "memory usage: 387.3+ KB\n"
     ]
    }
   ],
   "source": [
    "df.info() # let's look at the dataframe"
   ]
  },
  {
   "cell_type": "code",
   "execution_count": 3,
   "metadata": {},
   "outputs": [
    {
     "data": {
      "text/html": [
       "<div>\n",
       "<style scoped>\n",
       "    .dataframe tbody tr th:only-of-type {\n",
       "        vertical-align: middle;\n",
       "    }\n",
       "\n",
       "    .dataframe tbody tr th {\n",
       "        vertical-align: top;\n",
       "    }\n",
       "\n",
       "    .dataframe thead th {\n",
       "        text-align: right;\n",
       "    }\n",
       "</style>\n",
       "<table border=\"1\" class=\"dataframe\">\n",
       "  <thead>\n",
       "    <tr style=\"text-align: right;\">\n",
       "      <th></th>\n",
       "      <th>title</th>\n",
       "      <th>img_url</th>\n",
       "      <th>description</th>\n",
       "      <th>ratings</th>\n",
       "      <th>n_votes</th>\n",
       "      <th>is_adult</th>\n",
       "      <th>production_year</th>\n",
       "      <th>runtime</th>\n",
       "      <th>genres</th>\n",
       "      <th>release_year</th>\n",
       "      <th>studio</th>\n",
       "      <th>img_embeddings</th>\n",
       "      <th>text_embeddings</th>\n",
       "      <th>revenue</th>\n",
       "    </tr>\n",
       "  </thead>\n",
       "  <tbody>\n",
       "    <tr>\n",
       "      <th>0</th>\n",
       "      <td>Letters to Juliet</td>\n",
       "      <td>https://m.media-amazon.com/images/M/MV5BMjg0OT...</td>\n",
       "      <td>Letters to Juliet: Directed by Gary Winick. Wi...</td>\n",
       "      <td>6.5</td>\n",
       "      <td>92937.0</td>\n",
       "      <td>0</td>\n",
       "      <td>2010</td>\n",
       "      <td>105</td>\n",
       "      <td>Adventure,Comedy,Drama</td>\n",
       "      <td>2010.0</td>\n",
       "      <td>Sum.</td>\n",
       "      <td>[0.25030804, 2.4058464, 1.0431569, 0.030648155...</td>\n",
       "      <td>[-0.6795498, 0.35658365, 0.9994932, -0.9793934...</td>\n",
       "      <td>7.158530e+07</td>\n",
       "    </tr>\n",
       "    <tr>\n",
       "      <th>1</th>\n",
       "      <td>Veil of Tears</td>\n",
       "      <td>https://m.media-amazon.com/images/M/MV5BZjMxOD...</td>\n",
       "      <td>Veil of Tears: Directed by William Gereghty. W...</td>\n",
       "      <td>7.9</td>\n",
       "      <td>11.0</td>\n",
       "      <td>0</td>\n",
       "      <td>1996</td>\n",
       "      <td>\\N</td>\n",
       "      <td>Action,Crime,Drama</td>\n",
       "      <td>2014.0</td>\n",
       "      <td>WF</td>\n",
       "      <td>[0.51250213, 2.8152602, 0.46308166, 0.29031387...</td>\n",
       "      <td>[-0.6202415, 0.31657028, 0.9992422, -0.9703722...</td>\n",
       "      <td>8.964834e+04</td>\n",
       "    </tr>\n",
       "    <tr>\n",
       "      <th>2</th>\n",
       "      <td>International Velvet</td>\n",
       "      <td>https://m.media-amazon.com/images/M/MV5BOGVkYj...</td>\n",
       "      <td>International Velvet: Directed by Bryan Forbes...</td>\n",
       "      <td>5.9</td>\n",
       "      <td>1345.0</td>\n",
       "      <td>0</td>\n",
       "      <td>1978</td>\n",
       "      <td>127</td>\n",
       "      <td>Drama,Family,Sport</td>\n",
       "      <td>1978.0</td>\n",
       "      <td>MGM</td>\n",
       "      <td>[0.18073043, 0.24735461, 0.63652813, 0.2496522...</td>\n",
       "      <td>[-0.709996, 0.4233521, 0.99980927, -0.98892415...</td>\n",
       "      <td>3.164907e+07</td>\n",
       "    </tr>\n",
       "    <tr>\n",
       "      <th>3</th>\n",
       "      <td>8 Seconds</td>\n",
       "      <td>https://m.media-amazon.com/images/M/MV5BYjY4Nz...</td>\n",
       "      <td>8 Seconds: Directed by John G. Avildsen. With ...</td>\n",
       "      <td>6.6</td>\n",
       "      <td>4851.0</td>\n",
       "      <td>0</td>\n",
       "      <td>1994</td>\n",
       "      <td>105</td>\n",
       "      <td>Biography,Drama,Sport</td>\n",
       "      <td>1994.0</td>\n",
       "      <td>NL</td>\n",
       "      <td>[0.025015268, 0.9105338, 0.3878257, 0.3421247,...</td>\n",
       "      <td>[-0.7416838, 0.38435012, 0.9998453, -0.9874693...</td>\n",
       "      <td>3.898197e+07</td>\n",
       "    </tr>\n",
       "    <tr>\n",
       "      <th>4</th>\n",
       "      <td>Penitentiary II</td>\n",
       "      <td>https://m.media-amazon.com/images/M/MV5BNjQyZW...</td>\n",
       "      <td>Penitentiary II: Directed by Jamaa Fanaka. Wit...</td>\n",
       "      <td>4.1</td>\n",
       "      <td>549.0</td>\n",
       "      <td>0</td>\n",
       "      <td>1982</td>\n",
       "      <td>108</td>\n",
       "      <td>Crime,Drama,Sport</td>\n",
       "      <td>1982.0</td>\n",
       "      <td>MGM</td>\n",
       "      <td>[0.19079691, 1.9068279, 0.29114372, 0.19527505...</td>\n",
       "      <td>[-0.65501904, 0.3845747, 0.9996712, -0.9766391...</td>\n",
       "      <td>9.697023e+06</td>\n",
       "    </tr>\n",
       "  </tbody>\n",
       "</table>\n",
       "</div>"
      ],
      "text/plain": [
       "                  title                                            img_url  \\\n",
       "0     Letters to Juliet  https://m.media-amazon.com/images/M/MV5BMjg0OT...   \n",
       "1         Veil of Tears  https://m.media-amazon.com/images/M/MV5BZjMxOD...   \n",
       "2  International Velvet  https://m.media-amazon.com/images/M/MV5BOGVkYj...   \n",
       "3             8 Seconds  https://m.media-amazon.com/images/M/MV5BYjY4Nz...   \n",
       "4       Penitentiary II  https://m.media-amazon.com/images/M/MV5BNjQyZW...   \n",
       "\n",
       "                                         description  ratings  n_votes  \\\n",
       "0  Letters to Juliet: Directed by Gary Winick. Wi...      6.5  92937.0   \n",
       "1  Veil of Tears: Directed by William Gereghty. W...      7.9     11.0   \n",
       "2  International Velvet: Directed by Bryan Forbes...      5.9   1345.0   \n",
       "3  8 Seconds: Directed by John G. Avildsen. With ...      6.6   4851.0   \n",
       "4  Penitentiary II: Directed by Jamaa Fanaka. Wit...      4.1    549.0   \n",
       "\n",
       "   is_adult  production_year runtime                  genres  release_year  \\\n",
       "0         0             2010     105  Adventure,Comedy,Drama        2010.0   \n",
       "1         0             1996      \\N      Action,Crime,Drama        2014.0   \n",
       "2         0             1978     127      Drama,Family,Sport        1978.0   \n",
       "3         0             1994     105   Biography,Drama,Sport        1994.0   \n",
       "4         0             1982     108       Crime,Drama,Sport        1982.0   \n",
       "\n",
       "  studio                                     img_embeddings  \\\n",
       "0   Sum.  [0.25030804, 2.4058464, 1.0431569, 0.030648155...   \n",
       "1     WF  [0.51250213, 2.8152602, 0.46308166, 0.29031387...   \n",
       "2    MGM  [0.18073043, 0.24735461, 0.63652813, 0.2496522...   \n",
       "3     NL  [0.025015268, 0.9105338, 0.3878257, 0.3421247,...   \n",
       "4    MGM  [0.19079691, 1.9068279, 0.29114372, 0.19527505...   \n",
       "\n",
       "                                     text_embeddings       revenue  \n",
       "0  [-0.6795498, 0.35658365, 0.9994932, -0.9793934...  7.158530e+07  \n",
       "1  [-0.6202415, 0.31657028, 0.9992422, -0.9703722...  8.964834e+04  \n",
       "2  [-0.709996, 0.4233521, 0.99980927, -0.98892415...  3.164907e+07  \n",
       "3  [-0.7416838, 0.38435012, 0.9998453, -0.9874693...  3.898197e+07  \n",
       "4  [-0.65501904, 0.3845747, 0.9996712, -0.9766391...  9.697023e+06  "
      ]
     },
     "execution_count": 3,
     "metadata": {},
     "output_type": "execute_result"
    }
   ],
   "source": [
    "df.head()"
   ]
  },
  {
   "cell_type": "code",
   "execution_count": 4,
   "metadata": {},
   "outputs": [
    {
     "data": {
      "text/plain": [
       "title              0\n",
       "img_url            0\n",
       "description        0\n",
       "ratings            0\n",
       "n_votes            0\n",
       "is_adult           0\n",
       "production_year    0\n",
       "runtime            0\n",
       "genres             0\n",
       "release_year       0\n",
       "studio             0\n",
       "img_embeddings     0\n",
       "text_embeddings    0\n",
       "revenue            0\n",
       "dtype: int64"
      ]
     },
     "execution_count": 4,
     "metadata": {},
     "output_type": "execute_result"
    }
   ],
   "source": [
    "# Checking for NaN values for each column\n",
    "df.isna().sum()"
   ]
  },
  {
   "cell_type": "code",
   "execution_count": 5,
   "metadata": {},
   "outputs": [
    {
     "data": {
      "text/plain": [
       "title              3106\n",
       "img_url            3057\n",
       "description        3104\n",
       "runtime             185\n",
       "genres              352\n",
       "studio              498\n",
       "img_embeddings     3057\n",
       "text_embeddings    3104\n",
       "dtype: int64"
      ]
     },
     "execution_count": 5,
     "metadata": {},
     "output_type": "execute_result"
    }
   ],
   "source": [
    "# Examining the columns that has object type data\n",
    "df.select_dtypes('object').apply(pd.Series.nunique, axis = 0)"
   ]
  },
  {
   "cell_type": "code",
   "execution_count": 6,
   "metadata": {},
   "outputs": [
    {
     "data": {
      "text/plain": [
       "count    3.540000e+03\n",
       "mean     2.808340e+07\n",
       "std      7.322589e+07\n",
       "min      1.303869e+02\n",
       "25%      4.155345e+04\n",
       "50%      5.019854e+05\n",
       "75%      2.144866e+07\n",
       "max      8.199476e+08\n",
       "Name: revenue, dtype: float64"
      ]
     },
     "execution_count": 6,
     "metadata": {},
     "output_type": "execute_result"
    }
   ],
   "source": [
    "# Analyzing the target column 'revenue'\n",
    "df['revenue'].describe()"
   ]
  },
  {
   "cell_type": "code",
   "execution_count": 7,
   "metadata": {},
   "outputs": [
    {
     "data": {
      "text/plain": [
       "<AxesSubplot:>"
      ]
     },
     "execution_count": 7,
     "metadata": {},
     "output_type": "execute_result"
    },
    {
     "data": {
      "image/png": "[encoded data removed]",
      "text/plain": [
       "<Figure size 432x288 with 1 Axes>"
      ]
     },
     "metadata": {
      "needs_background": "light"
     },
     "output_type": "display_data"
    }
   ],
   "source": [
    "# Visualizing the target column\n",
    "df['revenue'].hist()"
   ]
  },
  {
   "cell_type": "markdown",
   "metadata": {},
   "source": [
    "### 3-) Data PreProcessing:"
   ]
  },
  {
   "cell_type": "code",
   "execution_count": 8,
   "metadata": {},
   "outputs": [
    {
     "name": "stdout",
     "output_type": "stream",
     "text": [
      "<class 'pandas.core.frame.DataFrame'>\n",
      "RangeIndex: 3540 entries, 0 to 3539\n",
      "Data columns (total 13 columns):\n",
      " #   Column           Non-Null Count  Dtype  \n",
      "---  ------           --------------  -----  \n",
      " 0   img_url          3540 non-null   object \n",
      " 1   description      3540 non-null   object \n",
      " 2   ratings          3540 non-null   float64\n",
      " 3   n_votes          3540 non-null   float64\n",
      " 4   is_adult         3540 non-null   int64  \n",
      " 5   production_year  3540 non-null   int64  \n",
      " 6   runtime          3540 non-null   object \n",
      " 7   genres           3540 non-null   object \n",
      " 8   release_year     3540 non-null   float64\n",
      " 9   studio           3540 non-null   object \n",
      " 10  img_embeddings   3540 non-null   object \n",
      " 11  text_embeddings  3540 non-null   object \n",
      " 12  revenue          3540 non-null   float64\n",
      "dtypes: float64(4), int64(2), object(7)\n",
      "memory usage: 359.7+ KB\n"
     ]
    }
   ],
   "source": [
    "# 'title' column is irrelevant for this task, therefore it is going to be dropped\n",
    "df = df.drop('title', axis=1)\n",
    "df.info()"
   ]
  },
  {
   "cell_type": "markdown",
   "metadata": {},
   "source": [
    "#### 3.1-) Label Encoding:"
   ]
  },
  {
   "cell_type": "code",
   "execution_count": 9,
   "metadata": {},
   "outputs": [],
   "source": [
    "# We have columns which have object data type, we need to encode them\n",
    "# I will split the df into three part:\n",
    "\n",
    "# df1 is the columns that are float or int (no need to encode)\n",
    "# df2 is the columns that are object (need to be encoded)\n",
    "# df3 is the columns that are embedded columns (also need to be encoded but in another way)\n",
    "\n",
    "df1 = df[['ratings', 'n_votes', 'is_adult', 'production_year', 'release_year', 'revenue']]\n",
    "df2 = df[['runtime', 'genres', 'studio']]\n",
    "df3 = df[['img_url', 'description', 'img_embeddings', 'text_embeddings']]"
   ]
  },
  {
   "cell_type": "code",
   "execution_count": 10,
   "metadata": {},
   "outputs": [
    {
     "name": "stderr",
     "output_type": "stream",
     "text": [
      "c:\\Users\\olgu_\\AppData\\Local\\Programs\\Python\\Python310\\lib\\site-packages\\sklearn\\preprocessing\\_label.py:115: DataConversionWarning: A column-vector y was passed when a 1d array was expected. Please change the shape of y to (n_samples, ), for example using ravel().\n",
      "  y = column_or_1d(y, warn=True)\n",
      "C:\\Users\\olgu_\\AppData\\Local\\Temp\\ipykernel_2384\\941398316.py:8: SettingWithCopyWarning: \n",
      "A value is trying to be set on a copy of a slice from a DataFrame.\n",
      "Try using .loc[row_indexer,col_indexer] = value instead\n",
      "\n",
      "See the caveats in the documentation: https://pandas.pydata.org/pandas-docs/stable/user_guide/indexing.html#returning-a-view-versus-a-copy\n",
      "  df2.iloc[:,col] = le.fit_transform(df2.iloc[:,col].values.reshape(-1,1))\n",
      "c:\\Users\\olgu_\\AppData\\Local\\Programs\\Python\\Python310\\lib\\site-packages\\sklearn\\preprocessing\\_label.py:115: DataConversionWarning: A column-vector y was passed when a 1d array was expected. Please change the shape of y to (n_samples, ), for example using ravel().\n",
      "  y = column_or_1d(y, warn=True)\n"
     ]
    }
   ],
   "source": [
    "# df2 can be simply encoded using a for loop, let's do that\n",
    "from sklearn import preprocessing\n",
    "le = preprocessing.LabelEncoder() # defining the label encoder\n",
    "num_of_col = df2.shape[1] # iteration over the columns of dataframe\n",
    "\n",
    "for col in range(num_of_col):\n",
    "    if np.dtype(df2.iloc[:,col]) in ['O','bool']: # if dtype is object or boolean\n",
    "        df2.iloc[:,col] = le.fit_transform(df2.iloc[:,col].values.reshape(-1,1))"
   ]
  },
  {
   "cell_type": "code",
   "execution_count": 11,
   "metadata": {},
   "outputs": [],
   "source": [
    "# Now df3 needs to be encoded\n",
    "\n",
    "# img_url is column used to create img_embeddings column\n",
    "# description is column used to create text_embeddings column\n",
    "\n",
    "# Therefore, description and img_url column can be dropped \n",
    "# Because img_embeddings and text_embeddings are going to be used instead of them\n",
    "df3 = df3.drop(['img_url', 'description'], axis=1)"
   ]
  },
  {
   "cell_type": "code",
   "execution_count": 12,
   "metadata": {},
   "outputs": [
    {
     "name": "stdout",
     "output_type": "stream",
     "text": [
      "0       [0.25030804, 2.4058464, 1.0431569, 0.030648155...\n",
      "1       [0.51250213, 2.8152602, 0.46308166, 0.29031387...\n",
      "2       [0.18073043, 0.24735461, 0.63652813, 0.2496522...\n",
      "3       [0.025015268, 0.9105338, 0.3878257, 0.3421247,...\n",
      "4       [0.19079691, 1.9068279, 0.29114372, 0.19527505...\n",
      "                              ...                        \n",
      "3535    [0.19991912, 1.3718543, 1.1531808, 0.052152418...\n",
      "3536    [0.38660493, 0.81947947, 1.9521054, 0.23831718...\n",
      "3537    [0.15014637, 2.0139444, 1.0844889, 0.17270318,...\n",
      "3538    [0.25391683, 3.8994913, 0.23327282, 0.17322594...\n",
      "3539    [0.3297945, 1.6534383, 0.968067, 0.37325135, 0...\n",
      "Name: img_embeddings, Length: 3540, dtype: object\n",
      "\n",
      "\n",
      "\n",
      "0       [-0.6795498, 0.35658365, 0.9994932, -0.9793934...\n",
      "1       [-0.6202415, 0.31657028, 0.9992422, -0.9703722...\n",
      "2       [-0.709996, 0.4233521, 0.99980927, -0.98892415...\n",
      "3       [-0.7416838, 0.38435012, 0.9998453, -0.9874693...\n",
      "4       [-0.65501904, 0.3845747, 0.9996712, -0.9766391...\n",
      "                              ...                        \n",
      "3535    [-0.55224955, 0.26953417, 0.99950045, -0.98031...\n",
      "3536    [-0.52293366, 0.35181606, 0.9992165, -0.974448...\n",
      "3537    [-0.61463475, 0.4013893, 0.99981415, -0.985390...\n",
      "3538    [-0.74685824, 0.43955636, 0.99979496, -0.98784...\n",
      "3539    [-0.5932971, 0.37042698, 0.9994072, -0.9731243...\n",
      "Name: text_embeddings, Length: 3540, dtype: object\n"
     ]
    }
   ],
   "source": [
    "# Let's examine the text_embeddings and img_embeddings columns\n",
    "print(df3['img_embeddings'])\n",
    "print(\"\\n\\n\")\n",
    "print(df3['text_embeddings'])"
   ]
  },
  {
   "cell_type": "code",
   "execution_count": 13,
   "metadata": {},
   "outputs": [
    {
     "name": "stdout",
     "output_type": "stream",
     "text": [
      "[\n",
      "[\n",
      ",\n"
     ]
    }
   ],
   "source": [
    "# Let's pick some random values to examine\n",
    "print(df3['text_embeddings'][1][0])\n",
    "print(df3['img_embeddings'][1][0])\n",
    "print(df3['img_embeddings'][1][11])"
   ]
  },
  {
   "cell_type": "code",
   "execution_count": 14,
   "metadata": {},
   "outputs": [],
   "source": [
    "# We have a problem about those two columns\n",
    "\n",
    "# They consist vectors with float values in them BUT\n",
    "# Those values are not actually float values which are seperated with ,\n",
    "# They are all strings\n",
    "# We have to make some adjustments on them\n",
    "\n",
    "length = np.shape(df3['img_embeddings'])[0] # defining the length\n",
    "\n",
    "for i in range(length):     \n",
    "    df3['img_embeddings'][i] = df3['img_embeddings'][i].lstrip(\"[\") # drop first letter\n",
    "    df3['img_embeddings'][i] = df3['img_embeddings'][i][:-1] # drop last letter\n",
    "    df3['img_embeddings'][i] = df3['img_embeddings'][i].split(\", \") # split\n",
    "\n",
    "for i in range(length):     \n",
    "    df3['text_embeddings'][i] = df3['text_embeddings'][i].lstrip(\"[\") # drop first letter\n",
    "    df3['text_embeddings'][i] = df3['text_embeddings'][i][:-1] # drop last letter\n",
    "    df3['text_embeddings'][i] = df3['text_embeddings'][i].split(\", \") # split"
   ]
  },
  {
   "cell_type": "code",
   "execution_count": 15,
   "metadata": {},
   "outputs": [
    {
     "name": "stdout",
     "output_type": "stream",
     "text": [
      "-0.6202415\n",
      "0.51250213\n",
      "0.8773051\n"
     ]
    }
   ],
   "source": [
    "print(df3['text_embeddings'][1][0])\n",
    "print(df3['img_embeddings'][1][0])\n",
    "print(df3['img_embeddings'][1][11])"
   ]
  },
  {
   "cell_type": "code",
   "execution_count": 16,
   "metadata": {},
   "outputs": [],
   "source": [
    "# img_embeddings and text_embeddings are seperated \n",
    "# now, string type must be converted to float for both columns\n",
    "\n",
    "for i in range(length):\n",
    "    df3['img_embeddings'][i] = np.array(df3['img_embeddings'][i], dtype=np.float64)\n",
    "    df3['text_embeddings'][i] = np.array(df3['text_embeddings'][i], dtype=np.float64)    "
   ]
  },
  {
   "cell_type": "code",
   "execution_count": 17,
   "metadata": {},
   "outputs": [
    {
     "data": {
      "text/html": [
       "<div>\n",
       "<style scoped>\n",
       "    .dataframe tbody tr th:only-of-type {\n",
       "        vertical-align: middle;\n",
       "    }\n",
       "\n",
       "    .dataframe tbody tr th {\n",
       "        vertical-align: top;\n",
       "    }\n",
       "\n",
       "    .dataframe thead th {\n",
       "        text-align: right;\n",
       "    }\n",
       "</style>\n",
       "<table border=\"1\" class=\"dataframe\">\n",
       "  <thead>\n",
       "    <tr style=\"text-align: right;\">\n",
       "      <th></th>\n",
       "      <th>img_embeddings</th>\n",
       "      <th>text_embeddings</th>\n",
       "    </tr>\n",
       "  </thead>\n",
       "  <tbody>\n",
       "    <tr>\n",
       "      <th>0</th>\n",
       "      <td>[0.25030804, 2.4058464, 1.0431569, 0.030648155...</td>\n",
       "      <td>[-0.6795498, 0.35658365, 0.9994932, -0.9793934...</td>\n",
       "    </tr>\n",
       "    <tr>\n",
       "      <th>1</th>\n",
       "      <td>[0.51250213, 2.8152602, 0.46308166, 0.29031387...</td>\n",
       "      <td>[-0.6202415, 0.31657028, 0.9992422, -0.9703722...</td>\n",
       "    </tr>\n",
       "    <tr>\n",
       "      <th>2</th>\n",
       "      <td>[0.18073043, 0.24735461, 0.63652813, 0.2496522...</td>\n",
       "      <td>[-0.709996, 0.4233521, 0.99980927, -0.98892415...</td>\n",
       "    </tr>\n",
       "    <tr>\n",
       "      <th>3</th>\n",
       "      <td>[0.025015268, 0.9105338, 0.3878257, 0.3421247,...</td>\n",
       "      <td>[-0.7416838, 0.38435012, 0.9998453, -0.9874693...</td>\n",
       "    </tr>\n",
       "    <tr>\n",
       "      <th>4</th>\n",
       "      <td>[0.19079691, 1.9068279, 0.29114372, 0.19527505...</td>\n",
       "      <td>[-0.65501904, 0.3845747, 0.9996712, -0.9766391...</td>\n",
       "    </tr>\n",
       "  </tbody>\n",
       "</table>\n",
       "</div>"
      ],
      "text/plain": [
       "                                      img_embeddings  \\\n",
       "0  [0.25030804, 2.4058464, 1.0431569, 0.030648155...   \n",
       "1  [0.51250213, 2.8152602, 0.46308166, 0.29031387...   \n",
       "2  [0.18073043, 0.24735461, 0.63652813, 0.2496522...   \n",
       "3  [0.025015268, 0.9105338, 0.3878257, 0.3421247,...   \n",
       "4  [0.19079691, 1.9068279, 0.29114372, 0.19527505...   \n",
       "\n",
       "                                     text_embeddings  \n",
       "0  [-0.6795498, 0.35658365, 0.9994932, -0.9793934...  \n",
       "1  [-0.6202415, 0.31657028, 0.9992422, -0.9703722...  \n",
       "2  [-0.709996, 0.4233521, 0.99980927, -0.98892415...  \n",
       "3  [-0.7416838, 0.38435012, 0.9998453, -0.9874693...  \n",
       "4  [-0.65501904, 0.3845747, 0.9996712, -0.9766391...  "
      ]
     },
     "execution_count": 17,
     "metadata": {},
     "output_type": "execute_result"
    }
   ],
   "source": [
    "df3.head()"
   ]
  },
  {
   "cell_type": "markdown",
   "metadata": {},
   "source": [
    "####  In order to reduce the multi-dimensionality of these columns, PCA decomposition are going to be applied to them"
   ]
  },
  {
   "cell_type": "code",
   "execution_count": 18,
   "metadata": {},
   "outputs": [],
   "source": [
    "# Initalize two matrices for two columns\n",
    "matrix_img_embeddings = np.zeros(((len(df3['img_embeddings'])), len(df3['img_embeddings'][0])))\n",
    "matrix_text_embeddings = np.zeros(((len(df3['text_embeddings'])), len(df3['text_embeddings'][0])))"
   ]
  },
  {
   "cell_type": "code",
   "execution_count": 19,
   "metadata": {},
   "outputs": [],
   "source": [
    "# Mapping columns into matrices using for loop\n",
    "for i in range (len(df3['img_embeddings'])):\n",
    "    for j in range (len(df3['img_embeddings'][0])):\n",
    "        matrix_img_embeddings[i][j] = df3['img_embeddings'][i][j]\n",
    "\n",
    "for i in range (len(df3['text_embeddings'])):\n",
    "    for j in range (len(df3['text_embeddings'][0])):\n",
    "        matrix_text_embeddings[i][j] = df3['text_embeddings'][i][j]"
   ]
  },
  {
   "cell_type": "code",
   "execution_count": 20,
   "metadata": {},
   "outputs": [],
   "source": [
    "# Creating dataframes using matrices\n",
    "df_img_embeddings = pd.DataFrame(matrix_img_embeddings)\n",
    "df_text_embeddings = pd.DataFrame(matrix_text_embeddings)"
   ]
  },
  {
   "cell_type": "code",
   "execution_count": 21,
   "metadata": {},
   "outputs": [
    {
     "data": {
      "text/html": [
       "<div>\n",
       "<style scoped>\n",
       "    .dataframe tbody tr th:only-of-type {\n",
       "        vertical-align: middle;\n",
       "    }\n",
       "\n",
       "    .dataframe tbody tr th {\n",
       "        vertical-align: top;\n",
       "    }\n",
       "\n",
       "    .dataframe thead th {\n",
       "        text-align: right;\n",
       "    }\n",
       "</style>\n",
       "<table border=\"1\" class=\"dataframe\">\n",
       "  <thead>\n",
       "    <tr style=\"text-align: right;\">\n",
       "      <th></th>\n",
       "      <th>0</th>\n",
       "      <th>1</th>\n",
       "      <th>2</th>\n",
       "      <th>3</th>\n",
       "      <th>4</th>\n",
       "      <th>5</th>\n",
       "      <th>6</th>\n",
       "      <th>7</th>\n",
       "      <th>8</th>\n",
       "      <th>9</th>\n",
       "      <th>...</th>\n",
       "      <th>2038</th>\n",
       "      <th>2039</th>\n",
       "      <th>2040</th>\n",
       "      <th>2041</th>\n",
       "      <th>2042</th>\n",
       "      <th>2043</th>\n",
       "      <th>2044</th>\n",
       "      <th>2045</th>\n",
       "      <th>2046</th>\n",
       "      <th>2047</th>\n",
       "    </tr>\n",
       "  </thead>\n",
       "  <tbody>\n",
       "    <tr>\n",
       "      <th>0</th>\n",
       "      <td>0.250308</td>\n",
       "      <td>2.405846</td>\n",
       "      <td>1.043157</td>\n",
       "      <td>0.030648</td>\n",
       "      <td>0.349497</td>\n",
       "      <td>0.320495</td>\n",
       "      <td>0.901077</td>\n",
       "      <td>0.674996</td>\n",
       "      <td>0.310549</td>\n",
       "      <td>0.533353</td>\n",
       "      <td>...</td>\n",
       "      <td>0.115729</td>\n",
       "      <td>0.458049</td>\n",
       "      <td>0.921232</td>\n",
       "      <td>0.639395</td>\n",
       "      <td>0.699187</td>\n",
       "      <td>0.060539</td>\n",
       "      <td>0.158502</td>\n",
       "      <td>0.459635</td>\n",
       "      <td>0.723325</td>\n",
       "      <td>0.850279</td>\n",
       "    </tr>\n",
       "    <tr>\n",
       "      <th>1</th>\n",
       "      <td>0.512502</td>\n",
       "      <td>2.815260</td>\n",
       "      <td>0.463082</td>\n",
       "      <td>0.290314</td>\n",
       "      <td>1.080451</td>\n",
       "      <td>0.333979</td>\n",
       "      <td>0.909705</td>\n",
       "      <td>0.817344</td>\n",
       "      <td>0.340002</td>\n",
       "      <td>0.507425</td>\n",
       "      <td>...</td>\n",
       "      <td>0.721747</td>\n",
       "      <td>0.629574</td>\n",
       "      <td>0.990730</td>\n",
       "      <td>0.392402</td>\n",
       "      <td>0.080273</td>\n",
       "      <td>0.312965</td>\n",
       "      <td>0.961384</td>\n",
       "      <td>0.066073</td>\n",
       "      <td>0.353533</td>\n",
       "      <td>0.139141</td>\n",
       "    </tr>\n",
       "    <tr>\n",
       "      <th>2</th>\n",
       "      <td>0.180730</td>\n",
       "      <td>0.247355</td>\n",
       "      <td>0.636528</td>\n",
       "      <td>0.249652</td>\n",
       "      <td>0.100523</td>\n",
       "      <td>0.055299</td>\n",
       "      <td>0.850117</td>\n",
       "      <td>0.015236</td>\n",
       "      <td>0.232086</td>\n",
       "      <td>0.558831</td>\n",
       "      <td>...</td>\n",
       "      <td>0.256043</td>\n",
       "      <td>0.336772</td>\n",
       "      <td>0.101175</td>\n",
       "      <td>0.242433</td>\n",
       "      <td>0.482843</td>\n",
       "      <td>0.187792</td>\n",
       "      <td>0.466467</td>\n",
       "      <td>0.023835</td>\n",
       "      <td>0.036051</td>\n",
       "      <td>0.127028</td>\n",
       "    </tr>\n",
       "    <tr>\n",
       "      <th>3</th>\n",
       "      <td>0.025015</td>\n",
       "      <td>0.910534</td>\n",
       "      <td>0.387826</td>\n",
       "      <td>0.342125</td>\n",
       "      <td>0.449293</td>\n",
       "      <td>0.517494</td>\n",
       "      <td>0.213289</td>\n",
       "      <td>0.463569</td>\n",
       "      <td>0.863764</td>\n",
       "      <td>0.544507</td>\n",
       "      <td>...</td>\n",
       "      <td>0.676794</td>\n",
       "      <td>0.628284</td>\n",
       "      <td>0.257829</td>\n",
       "      <td>0.205191</td>\n",
       "      <td>0.816652</td>\n",
       "      <td>0.058561</td>\n",
       "      <td>0.025909</td>\n",
       "      <td>0.131811</td>\n",
       "      <td>0.048419</td>\n",
       "      <td>1.148938</td>\n",
       "    </tr>\n",
       "    <tr>\n",
       "      <th>4</th>\n",
       "      <td>0.190797</td>\n",
       "      <td>1.906828</td>\n",
       "      <td>0.291144</td>\n",
       "      <td>0.195275</td>\n",
       "      <td>0.525999</td>\n",
       "      <td>0.502706</td>\n",
       "      <td>0.359901</td>\n",
       "      <td>0.074025</td>\n",
       "      <td>0.379786</td>\n",
       "      <td>0.182895</td>\n",
       "      <td>...</td>\n",
       "      <td>1.111816</td>\n",
       "      <td>0.472659</td>\n",
       "      <td>0.235317</td>\n",
       "      <td>0.160041</td>\n",
       "      <td>0.160780</td>\n",
       "      <td>0.227784</td>\n",
       "      <td>0.689268</td>\n",
       "      <td>0.249997</td>\n",
       "      <td>0.283735</td>\n",
       "      <td>0.221155</td>\n",
       "    </tr>\n",
       "  </tbody>\n",
       "</table>\n",
       "<p>5 rows × 2048 columns</p>\n",
       "</div>"
      ],
      "text/plain": [
       "       0         1         2         3         4         5         6     \\\n",
       "0  0.250308  2.405846  1.043157  0.030648  0.349497  0.320495  0.901077   \n",
       "1  0.512502  2.815260  0.463082  0.290314  1.080451  0.333979  0.909705   \n",
       "2  0.180730  0.247355  0.636528  0.249652  0.100523  0.055299  0.850117   \n",
       "3  0.025015  0.910534  0.387826  0.342125  0.449293  0.517494  0.213289   \n",
       "4  0.190797  1.906828  0.291144  0.195275  0.525999  0.502706  0.359901   \n",
       "\n",
       "       7         8         9     ...      2038      2039      2040      2041  \\\n",
       "0  0.674996  0.310549  0.533353  ...  0.115729  0.458049  0.921232  0.639395   \n",
       "1  0.817344  0.340002  0.507425  ...  0.721747  0.629574  0.990730  0.392402   \n",
       "2  0.015236  0.232086  0.558831  ...  0.256043  0.336772  0.101175  0.242433   \n",
       "3  0.463569  0.863764  0.544507  ...  0.676794  0.628284  0.257829  0.205191   \n",
       "4  0.074025  0.379786  0.182895  ...  1.111816  0.472659  0.235317  0.160041   \n",
       "\n",
       "       2042      2043      2044      2045      2046      2047  \n",
       "0  0.699187  0.060539  0.158502  0.459635  0.723325  0.850279  \n",
       "1  0.080273  0.312965  0.961384  0.066073  0.353533  0.139141  \n",
       "2  0.482843  0.187792  0.466467  0.023835  0.036051  0.127028  \n",
       "3  0.816652  0.058561  0.025909  0.131811  0.048419  1.148938  \n",
       "4  0.160780  0.227784  0.689268  0.249997  0.283735  0.221155  \n",
       "\n",
       "[5 rows x 2048 columns]"
      ]
     },
     "execution_count": 21,
     "metadata": {},
     "output_type": "execute_result"
    }
   ],
   "source": [
    "df_img_embeddings.head()"
   ]
  },
  {
   "cell_type": "code",
   "execution_count": 22,
   "metadata": {},
   "outputs": [
    {
     "data": {
      "text/html": [
       "<div>\n",
       "<style scoped>\n",
       "    .dataframe tbody tr th:only-of-type {\n",
       "        vertical-align: middle;\n",
       "    }\n",
       "\n",
       "    .dataframe tbody tr th {\n",
       "        vertical-align: top;\n",
       "    }\n",
       "\n",
       "    .dataframe thead th {\n",
       "        text-align: right;\n",
       "    }\n",
       "</style>\n",
       "<table border=\"1\" class=\"dataframe\">\n",
       "  <thead>\n",
       "    <tr style=\"text-align: right;\">\n",
       "      <th></th>\n",
       "      <th>0</th>\n",
       "      <th>1</th>\n",
       "      <th>2</th>\n",
       "      <th>3</th>\n",
       "      <th>4</th>\n",
       "      <th>5</th>\n",
       "      <th>6</th>\n",
       "      <th>7</th>\n",
       "      <th>8</th>\n",
       "      <th>9</th>\n",
       "      <th>...</th>\n",
       "      <th>758</th>\n",
       "      <th>759</th>\n",
       "      <th>760</th>\n",
       "      <th>761</th>\n",
       "      <th>762</th>\n",
       "      <th>763</th>\n",
       "      <th>764</th>\n",
       "      <th>765</th>\n",
       "      <th>766</th>\n",
       "      <th>767</th>\n",
       "    </tr>\n",
       "  </thead>\n",
       "  <tbody>\n",
       "    <tr>\n",
       "      <th>0</th>\n",
       "      <td>-0.679550</td>\n",
       "      <td>0.356584</td>\n",
       "      <td>0.999493</td>\n",
       "      <td>-0.979393</td>\n",
       "      <td>0.909871</td>\n",
       "      <td>0.841215</td>\n",
       "      <td>0.963238</td>\n",
       "      <td>-0.991788</td>\n",
       "      <td>-0.894972</td>\n",
       "      <td>-0.485519</td>\n",
       "      <td>...</td>\n",
       "      <td>0.555539</td>\n",
       "      <td>-0.173167</td>\n",
       "      <td>0.399331</td>\n",
       "      <td>-0.378869</td>\n",
       "      <td>-0.409315</td>\n",
       "      <td>-0.344284</td>\n",
       "      <td>-0.073671</td>\n",
       "      <td>0.999885</td>\n",
       "      <td>-0.495468</td>\n",
       "      <td>0.959063</td>\n",
       "    </tr>\n",
       "    <tr>\n",
       "      <th>1</th>\n",
       "      <td>-0.620242</td>\n",
       "      <td>0.316570</td>\n",
       "      <td>0.999242</td>\n",
       "      <td>-0.970372</td>\n",
       "      <td>0.907520</td>\n",
       "      <td>0.831672</td>\n",
       "      <td>0.962014</td>\n",
       "      <td>-0.991911</td>\n",
       "      <td>-0.882639</td>\n",
       "      <td>-0.520580</td>\n",
       "      <td>...</td>\n",
       "      <td>0.534597</td>\n",
       "      <td>-0.320714</td>\n",
       "      <td>0.385184</td>\n",
       "      <td>-0.552606</td>\n",
       "      <td>-0.399212</td>\n",
       "      <td>-0.445087</td>\n",
       "      <td>0.006780</td>\n",
       "      <td>0.999800</td>\n",
       "      <td>-0.508911</td>\n",
       "      <td>0.954674</td>\n",
       "    </tr>\n",
       "    <tr>\n",
       "      <th>2</th>\n",
       "      <td>-0.709996</td>\n",
       "      <td>0.423352</td>\n",
       "      <td>0.999809</td>\n",
       "      <td>-0.988924</td>\n",
       "      <td>0.946110</td>\n",
       "      <td>0.882451</td>\n",
       "      <td>0.980922</td>\n",
       "      <td>-0.989759</td>\n",
       "      <td>-0.952511</td>\n",
       "      <td>-0.557792</td>\n",
       "      <td>...</td>\n",
       "      <td>0.697693</td>\n",
       "      <td>-0.035854</td>\n",
       "      <td>0.356325</td>\n",
       "      <td>-0.388621</td>\n",
       "      <td>-0.344016</td>\n",
       "      <td>-0.322001</td>\n",
       "      <td>-0.085762</td>\n",
       "      <td>0.999952</td>\n",
       "      <td>-0.458579</td>\n",
       "      <td>0.976136</td>\n",
       "    </tr>\n",
       "    <tr>\n",
       "      <th>3</th>\n",
       "      <td>-0.741684</td>\n",
       "      <td>0.384350</td>\n",
       "      <td>0.999845</td>\n",
       "      <td>-0.987469</td>\n",
       "      <td>0.955525</td>\n",
       "      <td>0.840586</td>\n",
       "      <td>0.978380</td>\n",
       "      <td>-0.976472</td>\n",
       "      <td>-0.951891</td>\n",
       "      <td>-0.608680</td>\n",
       "      <td>...</td>\n",
       "      <td>0.692328</td>\n",
       "      <td>-0.009719</td>\n",
       "      <td>0.076474</td>\n",
       "      <td>-0.214084</td>\n",
       "      <td>-0.177248</td>\n",
       "      <td>0.025969</td>\n",
       "      <td>-0.112050</td>\n",
       "      <td>0.999954</td>\n",
       "      <td>-0.054416</td>\n",
       "      <td>0.977869</td>\n",
       "    </tr>\n",
       "    <tr>\n",
       "      <th>4</th>\n",
       "      <td>-0.655019</td>\n",
       "      <td>0.384575</td>\n",
       "      <td>0.999671</td>\n",
       "      <td>-0.976639</td>\n",
       "      <td>0.942559</td>\n",
       "      <td>0.789531</td>\n",
       "      <td>0.974175</td>\n",
       "      <td>-0.987648</td>\n",
       "      <td>-0.915520</td>\n",
       "      <td>-0.590972</td>\n",
       "      <td>...</td>\n",
       "      <td>0.593455</td>\n",
       "      <td>-0.336046</td>\n",
       "      <td>0.406313</td>\n",
       "      <td>-0.384353</td>\n",
       "      <td>-0.334238</td>\n",
       "      <td>-0.377167</td>\n",
       "      <td>-0.131084</td>\n",
       "      <td>0.999879</td>\n",
       "      <td>-0.166202</td>\n",
       "      <td>0.951990</td>\n",
       "    </tr>\n",
       "  </tbody>\n",
       "</table>\n",
       "<p>5 rows × 768 columns</p>\n",
       "</div>"
      ],
      "text/plain": [
       "        0         1         2         3         4         5         6    \\\n",
       "0 -0.679550  0.356584  0.999493 -0.979393  0.909871  0.841215  0.963238   \n",
       "1 -0.620242  0.316570  0.999242 -0.970372  0.907520  0.831672  0.962014   \n",
       "2 -0.709996  0.423352  0.999809 -0.988924  0.946110  0.882451  0.980922   \n",
       "3 -0.741684  0.384350  0.999845 -0.987469  0.955525  0.840586  0.978380   \n",
       "4 -0.655019  0.384575  0.999671 -0.976639  0.942559  0.789531  0.974175   \n",
       "\n",
       "        7         8         9    ...       758       759       760       761  \\\n",
       "0 -0.991788 -0.894972 -0.485519  ...  0.555539 -0.173167  0.399331 -0.378869   \n",
       "1 -0.991911 -0.882639 -0.520580  ...  0.534597 -0.320714  0.385184 -0.552606   \n",
       "2 -0.989759 -0.952511 -0.557792  ...  0.697693 -0.035854  0.356325 -0.388621   \n",
       "3 -0.976472 -0.951891 -0.608680  ...  0.692328 -0.009719  0.076474 -0.214084   \n",
       "4 -0.987648 -0.915520 -0.590972  ...  0.593455 -0.336046  0.406313 -0.384353   \n",
       "\n",
       "        762       763       764       765       766       767  \n",
       "0 -0.409315 -0.344284 -0.073671  0.999885 -0.495468  0.959063  \n",
       "1 -0.399212 -0.445087  0.006780  0.999800 -0.508911  0.954674  \n",
       "2 -0.344016 -0.322001 -0.085762  0.999952 -0.458579  0.976136  \n",
       "3 -0.177248  0.025969 -0.112050  0.999954 -0.054416  0.977869  \n",
       "4 -0.334238 -0.377167 -0.131084  0.999879 -0.166202  0.951990  \n",
       "\n",
       "[5 rows x 768 columns]"
      ]
     },
     "execution_count": 22,
     "metadata": {},
     "output_type": "execute_result"
    }
   ],
   "source": [
    "df_text_embeddings.head()"
   ]
  },
  {
   "cell_type": "code",
   "execution_count": 23,
   "metadata": {},
   "outputs": [],
   "source": [
    "# Both dataframes for img_embeddings and text_embeddings columns are ready\n",
    "# Now, PCA decomposition can be applied"
   ]
  },
  {
   "cell_type": "code",
   "execution_count": 24,
   "metadata": {},
   "outputs": [],
   "source": [
    "from sklearn.decomposition import PCA\n",
    "\n",
    "# Before appyling PCA we also need to scale the dataframes\n",
    "from sklearn.preprocessing import MinMaxScaler  \n",
    "scaler = MinMaxScaler() \n",
    "scaler.fit(df_img_embeddings)  \n",
    "df_img_embeddings = scaler.transform(df_img_embeddings)\n",
    "\n",
    "scaler = MinMaxScaler() \n",
    "scaler.fit(df_text_embeddings)  \n",
    "df_text_embeddings = scaler.transform(df_text_embeddings)"
   ]
  },
  {
   "cell_type": "code",
   "execution_count": 25,
   "metadata": {},
   "outputs": [],
   "source": [
    "# Applying PCA decomposition on df_img_embeddings and df_text_embeddings\n",
    "pca = PCA(n_components=2)\n",
    "principal_components_df_img_embeddings = pca.fit_transform(df_img_embeddings)\n",
    "principal_df_img_embeddings = pd.DataFrame(data = principal_components_df_img_embeddings\n",
    "             , columns = ['img_embeddings_1', 'img_embeddings_2'])\n",
    "\n",
    "principal_components_df_text_embeddings = pca.fit_transform(df_text_embeddings)\n",
    "principal_df_text_embeddings = pd.DataFrame(data = principal_components_df_text_embeddings\n",
    "             , columns = ['text_embeddings_1', 'text_embeddings_2'])"
   ]
  },
  {
   "cell_type": "code",
   "execution_count": 26,
   "metadata": {},
   "outputs": [
    {
     "data": {
      "text/html": [
       "<div>\n",
       "<style scoped>\n",
       "    .dataframe tbody tr th:only-of-type {\n",
       "        vertical-align: middle;\n",
       "    }\n",
       "\n",
       "    .dataframe tbody tr th {\n",
       "        vertical-align: top;\n",
       "    }\n",
       "\n",
       "    .dataframe thead th {\n",
       "        text-align: right;\n",
       "    }\n",
       "</style>\n",
       "<table border=\"1\" class=\"dataframe\">\n",
       "  <thead>\n",
       "    <tr style=\"text-align: right;\">\n",
       "      <th></th>\n",
       "      <th>img_embeddings_1</th>\n",
       "      <th>img_embeddings_2</th>\n",
       "    </tr>\n",
       "  </thead>\n",
       "  <tbody>\n",
       "    <tr>\n",
       "      <th>0</th>\n",
       "      <td>-2.084317</td>\n",
       "      <td>-0.894800</td>\n",
       "    </tr>\n",
       "    <tr>\n",
       "      <th>1</th>\n",
       "      <td>-1.462683</td>\n",
       "      <td>-0.232166</td>\n",
       "    </tr>\n",
       "    <tr>\n",
       "      <th>2</th>\n",
       "      <td>1.466238</td>\n",
       "      <td>-0.023910</td>\n",
       "    </tr>\n",
       "    <tr>\n",
       "      <th>3</th>\n",
       "      <td>-1.112405</td>\n",
       "      <td>-0.093766</td>\n",
       "    </tr>\n",
       "    <tr>\n",
       "      <th>4</th>\n",
       "      <td>-1.570727</td>\n",
       "      <td>1.475944</td>\n",
       "    </tr>\n",
       "  </tbody>\n",
       "</table>\n",
       "</div>"
      ],
      "text/plain": [
       "   img_embeddings_1  img_embeddings_2\n",
       "0         -2.084317         -0.894800\n",
       "1         -1.462683         -0.232166\n",
       "2          1.466238         -0.023910\n",
       "3         -1.112405         -0.093766\n",
       "4         -1.570727          1.475944"
      ]
     },
     "execution_count": 26,
     "metadata": {},
     "output_type": "execute_result"
    }
   ],
   "source": [
    "principal_df_img_embeddings.head()"
   ]
  },
  {
   "cell_type": "code",
   "execution_count": 27,
   "metadata": {},
   "outputs": [
    {
     "data": {
      "text/html": [
       "<div>\n",
       "<style scoped>\n",
       "    .dataframe tbody tr th:only-of-type {\n",
       "        vertical-align: middle;\n",
       "    }\n",
       "\n",
       "    .dataframe tbody tr th {\n",
       "        vertical-align: top;\n",
       "    }\n",
       "\n",
       "    .dataframe thead th {\n",
       "        text-align: right;\n",
       "    }\n",
       "</style>\n",
       "<table border=\"1\" class=\"dataframe\">\n",
       "  <thead>\n",
       "    <tr style=\"text-align: right;\">\n",
       "      <th></th>\n",
       "      <th>text_embeddings_1</th>\n",
       "      <th>text_embeddings_2</th>\n",
       "    </tr>\n",
       "  </thead>\n",
       "  <tbody>\n",
       "    <tr>\n",
       "      <th>0</th>\n",
       "      <td>0.968720</td>\n",
       "      <td>-0.243909</td>\n",
       "    </tr>\n",
       "    <tr>\n",
       "      <th>1</th>\n",
       "      <td>2.145432</td>\n",
       "      <td>0.044781</td>\n",
       "    </tr>\n",
       "    <tr>\n",
       "      <th>2</th>\n",
       "      <td>-0.921848</td>\n",
       "      <td>-1.273292</td>\n",
       "    </tr>\n",
       "    <tr>\n",
       "      <th>3</th>\n",
       "      <td>-2.752251</td>\n",
       "      <td>0.338918</td>\n",
       "    </tr>\n",
       "    <tr>\n",
       "      <th>4</th>\n",
       "      <td>-0.092226</td>\n",
       "      <td>0.600350</td>\n",
       "    </tr>\n",
       "  </tbody>\n",
       "</table>\n",
       "</div>"
      ],
      "text/plain": [
       "   text_embeddings_1  text_embeddings_2\n",
       "0           0.968720          -0.243909\n",
       "1           2.145432           0.044781\n",
       "2          -0.921848          -1.273292\n",
       "3          -2.752251           0.338918\n",
       "4          -0.092226           0.600350"
      ]
     },
     "execution_count": 27,
     "metadata": {},
     "output_type": "execute_result"
    }
   ],
   "source": [
    "principal_df_text_embeddings.head()"
   ]
  },
  {
   "cell_type": "code",
   "execution_count": 28,
   "metadata": {},
   "outputs": [],
   "source": [
    "# Principal dataframes are ready\n",
    "# They are going to concatenated to other dataframes\n",
    "df = pd.concat([df1, df2, principal_df_img_embeddings, principal_df_text_embeddings], axis=1)"
   ]
  },
  {
   "cell_type": "code",
   "execution_count": 29,
   "metadata": {},
   "outputs": [
    {
     "data": {
      "text/html": [
       "<div>\n",
       "<style scoped>\n",
       "    .dataframe tbody tr th:only-of-type {\n",
       "        vertical-align: middle;\n",
       "    }\n",
       "\n",
       "    .dataframe tbody tr th {\n",
       "        vertical-align: top;\n",
       "    }\n",
       "\n",
       "    .dataframe thead th {\n",
       "        text-align: right;\n",
       "    }\n",
       "</style>\n",
       "<table border=\"1\" class=\"dataframe\">\n",
       "  <thead>\n",
       "    <tr style=\"text-align: right;\">\n",
       "      <th></th>\n",
       "      <th>ratings</th>\n",
       "      <th>n_votes</th>\n",
       "      <th>is_adult</th>\n",
       "      <th>production_year</th>\n",
       "      <th>release_year</th>\n",
       "      <th>revenue</th>\n",
       "      <th>runtime</th>\n",
       "      <th>genres</th>\n",
       "      <th>studio</th>\n",
       "      <th>img_embeddings_1</th>\n",
       "      <th>img_embeddings_2</th>\n",
       "      <th>text_embeddings_1</th>\n",
       "      <th>text_embeddings_2</th>\n",
       "    </tr>\n",
       "  </thead>\n",
       "  <tbody>\n",
       "    <tr>\n",
       "      <th>0</th>\n",
       "      <td>6.5</td>\n",
       "      <td>92937.0</td>\n",
       "      <td>0</td>\n",
       "      <td>2010</td>\n",
       "      <td>2010.0</td>\n",
       "      <td>7.158530e+07</td>\n",
       "      <td>6</td>\n",
       "      <td>77</td>\n",
       "      <td>431</td>\n",
       "      <td>-2.084317</td>\n",
       "      <td>-0.894800</td>\n",
       "      <td>0.968720</td>\n",
       "      <td>-0.243909</td>\n",
       "    </tr>\n",
       "    <tr>\n",
       "      <th>1</th>\n",
       "      <td>7.9</td>\n",
       "      <td>11.0</td>\n",
       "      <td>0</td>\n",
       "      <td>1996</td>\n",
       "      <td>2014.0</td>\n",
       "      <td>8.964834e+04</td>\n",
       "      <td>184</td>\n",
       "      <td>30</td>\n",
       "      <td>476</td>\n",
       "      <td>-1.462683</td>\n",
       "      <td>-0.232166</td>\n",
       "      <td>2.145432</td>\n",
       "      <td>0.044781</td>\n",
       "    </tr>\n",
       "    <tr>\n",
       "      <th>2</th>\n",
       "      <td>5.9</td>\n",
       "      <td>1345.0</td>\n",
       "      <td>0</td>\n",
       "      <td>1978</td>\n",
       "      <td>1978.0</td>\n",
       "      <td>3.164907e+07</td>\n",
       "      <td>30</td>\n",
       "      <td>262</td>\n",
       "      <td>274</td>\n",
       "      <td>1.466238</td>\n",
       "      <td>-0.023910</td>\n",
       "      <td>-0.921848</td>\n",
       "      <td>-1.273292</td>\n",
       "    </tr>\n",
       "    <tr>\n",
       "      <th>3</th>\n",
       "      <td>6.6</td>\n",
       "      <td>4851.0</td>\n",
       "      <td>0</td>\n",
       "      <td>1994</td>\n",
       "      <td>1994.0</td>\n",
       "      <td>3.898197e+07</td>\n",
       "      <td>6</td>\n",
       "      <td>155</td>\n",
       "      <td>310</td>\n",
       "      <td>-1.112405</td>\n",
       "      <td>-0.093766</td>\n",
       "      <td>-2.752251</td>\n",
       "      <td>0.338918</td>\n",
       "    </tr>\n",
       "    <tr>\n",
       "      <th>4</th>\n",
       "      <td>4.1</td>\n",
       "      <td>549.0</td>\n",
       "      <td>0</td>\n",
       "      <td>1982</td>\n",
       "      <td>1982.0</td>\n",
       "      <td>9.697023e+06</td>\n",
       "      <td>9</td>\n",
       "      <td>226</td>\n",
       "      <td>274</td>\n",
       "      <td>-1.570727</td>\n",
       "      <td>1.475944</td>\n",
       "      <td>-0.092226</td>\n",
       "      <td>0.600350</td>\n",
       "    </tr>\n",
       "  </tbody>\n",
       "</table>\n",
       "</div>"
      ],
      "text/plain": [
       "   ratings  n_votes  is_adult  production_year  release_year       revenue  \\\n",
       "0      6.5  92937.0         0             2010        2010.0  7.158530e+07   \n",
       "1      7.9     11.0         0             1996        2014.0  8.964834e+04   \n",
       "2      5.9   1345.0         0             1978        1978.0  3.164907e+07   \n",
       "3      6.6   4851.0         0             1994        1994.0  3.898197e+07   \n",
       "4      4.1    549.0         0             1982        1982.0  9.697023e+06   \n",
       "\n",
       "   runtime  genres  studio  img_embeddings_1  img_embeddings_2  \\\n",
       "0        6      77     431         -2.084317         -0.894800   \n",
       "1      184      30     476         -1.462683         -0.232166   \n",
       "2       30     262     274          1.466238         -0.023910   \n",
       "3        6     155     310         -1.112405         -0.093766   \n",
       "4        9     226     274         -1.570727          1.475944   \n",
       "\n",
       "   text_embeddings_1  text_embeddings_2  \n",
       "0           0.968720          -0.243909  \n",
       "1           2.145432           0.044781  \n",
       "2          -0.921848          -1.273292  \n",
       "3          -2.752251           0.338918  \n",
       "4          -0.092226           0.600350  "
      ]
     },
     "execution_count": 29,
     "metadata": {},
     "output_type": "execute_result"
    }
   ],
   "source": [
    "# df is finally numeric, label encoding is finished\n",
    "df.head()"
   ]
  },
  {
   "cell_type": "markdown",
   "metadata": {},
   "source": [
    "#### 3.2-) Feature Engineering:"
   ]
  },
  {
   "cell_type": "code",
   "execution_count": 30,
   "metadata": {
    "scrolled": true
   },
   "outputs": [
    {
     "data": {
      "image/png": "[encoded data removed]",
      "text/plain": [
       "<Figure size 250x250 with 2 Axes>"
      ]
     },
     "metadata": {
      "needs_background": "light"
     },
     "output_type": "display_data"
    }
   ],
   "source": [
    "# After label encoding, we can examine the heatmap for corrlearion\n",
    "plt.figure(figsize=(2, 2), dpi=125)\n",
    "dataplot = sb.heatmap(df.corr())"
   ]
  },
  {
   "cell_type": "code",
   "execution_count": 31,
   "metadata": {},
   "outputs": [
    {
     "data": {
      "text/plain": [
       "0       0\n",
       "1       0\n",
       "2       0\n",
       "3       0\n",
       "4       0\n",
       "       ..\n",
       "3535    0\n",
       "3536    0\n",
       "3537    0\n",
       "3538    0\n",
       "3539    0\n",
       "Name: is_adult, Length: 3540, dtype: int64"
      ]
     },
     "execution_count": 31,
     "metadata": {},
     "output_type": "execute_result"
    }
   ],
   "source": [
    "# There is a problem about 'is_adult' column, let's look at it\n",
    "df['is_adult']"
   ]
  },
  {
   "cell_type": "code",
   "execution_count": 32,
   "metadata": {},
   "outputs": [
    {
     "name": "stdout",
     "output_type": "stream",
     "text": [
      "3540\n"
     ]
    }
   ],
   "source": [
    "# 'is_adult' is a binary column but all of its value is zero, therefore it is going to be dropped\n",
    "print(len(df[df['is_adult']==0]))"
   ]
  },
  {
   "cell_type": "code",
   "execution_count": 33,
   "metadata": {},
   "outputs": [
    {
     "name": "stdout",
     "output_type": "stream",
     "text": [
      "<class 'pandas.core.frame.DataFrame'>\n",
      "RangeIndex: 3540 entries, 0 to 3539\n",
      "Data columns (total 12 columns):\n",
      " #   Column             Non-Null Count  Dtype  \n",
      "---  ------             --------------  -----  \n",
      " 0   ratings            3540 non-null   float64\n",
      " 1   n_votes            3540 non-null   float64\n",
      " 2   production_year    3540 non-null   int64  \n",
      " 3   release_year       3540 non-null   float64\n",
      " 4   revenue            3540 non-null   float64\n",
      " 5   runtime            3540 non-null   int32  \n",
      " 6   genres             3540 non-null   int32  \n",
      " 7   studio             3540 non-null   int32  \n",
      " 8   img_embeddings_1   3540 non-null   float64\n",
      " 9   img_embeddings_2   3540 non-null   float64\n",
      " 10  text_embeddings_1  3540 non-null   float64\n",
      " 11  text_embeddings_2  3540 non-null   float64\n",
      "dtypes: float64(8), int32(3), int64(1)\n",
      "memory usage: 290.5 KB\n"
     ]
    }
   ],
   "source": [
    "# is_adult column is dropped \n",
    "df = df.drop('is_adult', axis=1)\n",
    "df.info()"
   ]
  },
  {
   "cell_type": "markdown",
   "metadata": {},
   "source": [
    "#### 3.3-) Visualizing Outliers:"
   ]
  },
  {
   "cell_type": "code",
   "execution_count": 34,
   "metadata": {},
   "outputs": [
    {
     "name": "stderr",
     "output_type": "stream",
     "text": [
      "c:\\Users\\olgu_\\AppData\\Local\\Programs\\Python\\Python310\\lib\\site-packages\\seaborn\\_decorators.py:36: FutureWarning: Pass the following variable as a keyword arg: x. From version 0.12, the only valid positional argument will be `data`, and passing other arguments without an explicit keyword will result in an error or misinterpretation.\n",
      "  warnings.warn(\n"
     ]
    },
    {
     "data": {
      "image/png": "[encoded data removed]",
      "text/plain": [
       "<Figure size 288x288 with 1 Axes>"
      ]
     },
     "metadata": {
      "needs_background": "light"
     },
     "output_type": "display_data"
    },
    {
     "name": "stderr",
     "output_type": "stream",
     "text": [
      "c:\\Users\\olgu_\\AppData\\Local\\Programs\\Python\\Python310\\lib\\site-packages\\seaborn\\_decorators.py:36: FutureWarning: Pass the following variable as a keyword arg: x. From version 0.12, the only valid positional argument will be `data`, and passing other arguments without an explicit keyword will result in an error or misinterpretation.\n",
      "  warnings.warn(\n"
     ]
    },
    {
     "data": {
      "image/png": "[encoded data removed]",
      "text/plain": [
       "<Figure size 432x288 with 1 Axes>"
      ]
     },
     "metadata": {
      "needs_background": "light"
     },
     "output_type": "display_data"
    },
    {
     "name": "stderr",
     "output_type": "stream",
     "text": [
      "c:\\Users\\olgu_\\AppData\\Local\\Programs\\Python\\Python310\\lib\\site-packages\\seaborn\\_decorators.py:36: FutureWarning: Pass the following variable as a keyword arg: x. From version 0.12, the only valid positional argument will be `data`, and passing other arguments without an explicit keyword will result in an error or misinterpretation.\n",
      "  warnings.warn(\n"
     ]
    },
    {
     "data": {
      "image/png": "[encoded data removed]",
      "text/plain": [
       "<Figure size 432x288 with 1 Axes>"
      ]
     },
     "metadata": {
      "needs_background": "light"
     },
     "output_type": "display_data"
    },
    {
     "name": "stderr",
     "output_type": "stream",
     "text": [
      "c:\\Users\\olgu_\\AppData\\Local\\Programs\\Python\\Python310\\lib\\site-packages\\seaborn\\_decorators.py:36: FutureWarning: Pass the following variable as a keyword arg: x. From version 0.12, the only valid positional argument will be `data`, and passing other arguments without an explicit keyword will result in an error or misinterpretation.\n",
      "  warnings.warn(\n"
     ]
    },
    {
     "data": {
      "image/png": "[encoded data removed]",
      "text/plain": [
       "<Figure size 432x288 with 1 Axes>"
      ]
     },
     "metadata": {
      "needs_background": "light"
     },
     "output_type": "display_data"
    },
    {
     "name": "stderr",
     "output_type": "stream",
     "text": [
      "c:\\Users\\olgu_\\AppData\\Local\\Programs\\Python\\Python310\\lib\\site-packages\\seaborn\\_decorators.py:36: FutureWarning: Pass the following variable as a keyword arg: x. From version 0.12, the only valid positional argument will be `data`, and passing other arguments without an explicit keyword will result in an error or misinterpretation.\n",
      "  warnings.warn(\n"
     ]
    },
    {
     "data": {
      "image/png": "[encoded data removed]",
      "text/plain": [
       "<Figure size 432x288 with 1 Axes>"
      ]
     },
     "metadata": {
      "needs_background": "light"
     },
     "output_type": "display_data"
    },
    {
     "name": "stderr",
     "output_type": "stream",
     "text": [
      "c:\\Users\\olgu_\\AppData\\Local\\Programs\\Python\\Python310\\lib\\site-packages\\seaborn\\_decorators.py:36: FutureWarning: Pass the following variable as a keyword arg: x. From version 0.12, the only valid positional argument will be `data`, and passing other arguments without an explicit keyword will result in an error or misinterpretation.\n",
      "  warnings.warn(\n"
     ]
    },
    {
     "data": {
      "image/png": "[encoded data removed]",
      "text/plain": [
       "<Figure size 432x288 with 1 Axes>"
      ]
     },
     "metadata": {
      "needs_background": "light"
     },
     "output_type": "display_data"
    },
    {
     "name": "stderr",
     "output_type": "stream",
     "text": [
      "c:\\Users\\olgu_\\AppData\\Local\\Programs\\Python\\Python310\\lib\\site-packages\\seaborn\\_decorators.py:36: FutureWarning: Pass the following variable as a keyword arg: x. From version 0.12, the only valid positional argument will be `data`, and passing other arguments without an explicit keyword will result in an error or misinterpretation.\n",
      "  warnings.warn(\n"
     ]
    },
    {
     "data": {
      "image/png": "[encoded data removed]",
      "text/plain": [
       "<Figure size 432x288 with 1 Axes>"
      ]
     },
     "metadata": {
      "needs_background": "light"
     },
     "output_type": "display_data"
    },
    {
     "name": "stderr",
     "output_type": "stream",
     "text": [
      "c:\\Users\\olgu_\\AppData\\Local\\Programs\\Python\\Python310\\lib\\site-packages\\seaborn\\_decorators.py:36: FutureWarning: Pass the following variable as a keyword arg: x. From version 0.12, the only valid positional argument will be `data`, and passing other arguments without an explicit keyword will result in an error or misinterpretation.\n",
      "  warnings.warn(\n"
     ]
    },
    {
     "data": {
      "image/png": "[encoded data removed]",
      "text/plain": [
       "<Figure size 432x288 with 1 Axes>"
      ]
     },
     "metadata": {
      "needs_background": "light"
     },
     "output_type": "display_data"
    },
    {
     "name": "stderr",
     "output_type": "stream",
     "text": [
      "c:\\Users\\olgu_\\AppData\\Local\\Programs\\Python\\Python310\\lib\\site-packages\\seaborn\\_decorators.py:36: FutureWarning: Pass the following variable as a keyword arg: x. From version 0.12, the only valid positional argument will be `data`, and passing other arguments without an explicit keyword will result in an error or misinterpretation.\n",
      "  warnings.warn(\n"
     ]
    },
    {
     "data": {
      "image/png": "[encoded data removed]",
      "text/plain": [
       "<Figure size 432x288 with 1 Axes>"
      ]
     },
     "metadata": {
      "needs_background": "light"
     },
     "output_type": "display_data"
    },
    {
     "name": "stderr",
     "output_type": "stream",
     "text": [
      "c:\\Users\\olgu_\\AppData\\Local\\Programs\\Python\\Python310\\lib\\site-packages\\seaborn\\_decorators.py:36: FutureWarning: Pass the following variable as a keyword arg: x. From version 0.12, the only valid positional argument will be `data`, and passing other arguments without an explicit keyword will result in an error or misinterpretation.\n",
      "  warnings.warn(\n"
     ]
    },
    {
     "data": {
      "image/png": "[encoded data removed]",
      "text/plain": [
       "<Figure size 432x288 with 1 Axes>"
      ]
     },
     "metadata": {
      "needs_background": "light"
     },
     "output_type": "display_data"
    },
    {
     "name": "stderr",
     "output_type": "stream",
     "text": [
      "c:\\Users\\olgu_\\AppData\\Local\\Programs\\Python\\Python310\\lib\\site-packages\\seaborn\\_decorators.py:36: FutureWarning: Pass the following variable as a keyword arg: x. From version 0.12, the only valid positional argument will be `data`, and passing other arguments without an explicit keyword will result in an error or misinterpretation.\n",
      "  warnings.warn(\n"
     ]
    },
    {
     "data": {
      "image/png": "[encoded data removed]",
      "text/plain": [
       "<Figure size 432x288 with 1 Axes>"
      ]
     },
     "metadata": {
      "needs_background": "light"
     },
     "output_type": "display_data"
    },
    {
     "name": "stderr",
     "output_type": "stream",
     "text": [
      "c:\\Users\\olgu_\\AppData\\Local\\Programs\\Python\\Python310\\lib\\site-packages\\seaborn\\_decorators.py:36: FutureWarning: Pass the following variable as a keyword arg: x. From version 0.12, the only valid positional argument will be `data`, and passing other arguments without an explicit keyword will result in an error or misinterpretation.\n",
      "  warnings.warn(\n"
     ]
    },
    {
     "data": {
      "image/png": "[encoded data removed]",
      "text/plain": [
       "<Figure size 432x288 with 1 Axes>"
      ]
     },
     "metadata": {
      "needs_background": "light"
     },
     "output_type": "display_data"
    }
   ],
   "source": [
    "# Visualizing the outliers using a for loop\n",
    "fig = plt.figure(figsize=(4,4))\n",
    "for i in range (np.shape(df)[1]):    \n",
    "    sb.boxplot(df.iloc[:,i])\n",
    "    plt.show()"
   ]
  },
  {
   "cell_type": "markdown",
   "metadata": {},
   "source": [
    "##### As it can be observed from visualizations, it would be not wrong to say that a model that is not very sensitive to outliers would be more succesful for this task"
   ]
  },
  {
   "cell_type": "markdown",
   "metadata": {},
   "source": [
    "#### 3.4-) Feature Selection:"
   ]
  },
  {
   "cell_type": "markdown",
   "metadata": {},
   "source": [
    "##### For this task I will be using both linear and non-linear machine learning models. Therefore; I will need two different dataframes, one of them for linear models and one of them for non-linear models"
   ]
  },
  {
   "cell_type": "code",
   "execution_count": 35,
   "metadata": {},
   "outputs": [
    {
     "data": {
      "text/plain": [
       "ratings              0.094744\n",
       "n_votes              0.482573\n",
       "production_year      0.059914\n",
       "release_year         0.161485\n",
       "revenue              1.000000\n",
       "runtime              0.071382\n",
       "genres               0.235498\n",
       "studio               0.098783\n",
       "img_embeddings_1     0.043875\n",
       "img_embeddings_2     0.066286\n",
       "text_embeddings_1    0.047604\n",
       "text_embeddings_2    0.005375\n",
       "Name: revenue, dtype: float64"
      ]
     },
     "execution_count": 35,
     "metadata": {},
     "output_type": "execute_result"
    }
   ],
   "source": [
    "# First, take a look at correlation vector\n",
    "np.abs(df.corr()['revenue'])"
   ]
  },
  {
   "cell_type": "markdown",
   "metadata": {},
   "source": [
    "##### Correlation is an important measure for linear models whereas is not important for non-linear models. I will take correlation into account while creating linear dataframe"
   ]
  },
  {
   "cell_type": "code",
   "execution_count": 36,
   "metadata": {},
   "outputs": [],
   "source": [
    "# 'img_embeddings_1' and 'text_embeddings_2' seem to have relatively low correlation compared to other columns\n",
    "# I have one more column for both img_embeddings and text_embeddings \n",
    "# so I can drop those two columns for linear models\n",
    "df_linear = df.drop(['img_embeddings_1', 'text_embeddings_2'], axis=1)"
   ]
  },
  {
   "cell_type": "code",
   "execution_count": 37,
   "metadata": {},
   "outputs": [
    {
     "data": {
      "text/html": [
       "<div>\n",
       "<style scoped>\n",
       "    .dataframe tbody tr th:only-of-type {\n",
       "        vertical-align: middle;\n",
       "    }\n",
       "\n",
       "    .dataframe tbody tr th {\n",
       "        vertical-align: top;\n",
       "    }\n",
       "\n",
       "    .dataframe thead th {\n",
       "        text-align: right;\n",
       "    }\n",
       "</style>\n",
       "<table border=\"1\" class=\"dataframe\">\n",
       "  <thead>\n",
       "    <tr style=\"text-align: right;\">\n",
       "      <th></th>\n",
       "      <th>ratings</th>\n",
       "      <th>n_votes</th>\n",
       "      <th>production_year</th>\n",
       "      <th>release_year</th>\n",
       "      <th>revenue</th>\n",
       "      <th>runtime</th>\n",
       "      <th>genres</th>\n",
       "      <th>studio</th>\n",
       "      <th>img_embeddings_2</th>\n",
       "      <th>text_embeddings_1</th>\n",
       "    </tr>\n",
       "  </thead>\n",
       "  <tbody>\n",
       "    <tr>\n",
       "      <th>0</th>\n",
       "      <td>6.5</td>\n",
       "      <td>92937.0</td>\n",
       "      <td>2010</td>\n",
       "      <td>2010.0</td>\n",
       "      <td>7.158530e+07</td>\n",
       "      <td>6</td>\n",
       "      <td>77</td>\n",
       "      <td>431</td>\n",
       "      <td>-0.894800</td>\n",
       "      <td>0.968720</td>\n",
       "    </tr>\n",
       "    <tr>\n",
       "      <th>1</th>\n",
       "      <td>7.9</td>\n",
       "      <td>11.0</td>\n",
       "      <td>1996</td>\n",
       "      <td>2014.0</td>\n",
       "      <td>8.964834e+04</td>\n",
       "      <td>184</td>\n",
       "      <td>30</td>\n",
       "      <td>476</td>\n",
       "      <td>-0.232166</td>\n",
       "      <td>2.145432</td>\n",
       "    </tr>\n",
       "    <tr>\n",
       "      <th>2</th>\n",
       "      <td>5.9</td>\n",
       "      <td>1345.0</td>\n",
       "      <td>1978</td>\n",
       "      <td>1978.0</td>\n",
       "      <td>3.164907e+07</td>\n",
       "      <td>30</td>\n",
       "      <td>262</td>\n",
       "      <td>274</td>\n",
       "      <td>-0.023910</td>\n",
       "      <td>-0.921848</td>\n",
       "    </tr>\n",
       "    <tr>\n",
       "      <th>3</th>\n",
       "      <td>6.6</td>\n",
       "      <td>4851.0</td>\n",
       "      <td>1994</td>\n",
       "      <td>1994.0</td>\n",
       "      <td>3.898197e+07</td>\n",
       "      <td>6</td>\n",
       "      <td>155</td>\n",
       "      <td>310</td>\n",
       "      <td>-0.093766</td>\n",
       "      <td>-2.752251</td>\n",
       "    </tr>\n",
       "    <tr>\n",
       "      <th>4</th>\n",
       "      <td>4.1</td>\n",
       "      <td>549.0</td>\n",
       "      <td>1982</td>\n",
       "      <td>1982.0</td>\n",
       "      <td>9.697023e+06</td>\n",
       "      <td>9</td>\n",
       "      <td>226</td>\n",
       "      <td>274</td>\n",
       "      <td>1.475944</td>\n",
       "      <td>-0.092226</td>\n",
       "    </tr>\n",
       "  </tbody>\n",
       "</table>\n",
       "</div>"
      ],
      "text/plain": [
       "   ratings  n_votes  production_year  release_year       revenue  runtime  \\\n",
       "0      6.5  92937.0             2010        2010.0  7.158530e+07        6   \n",
       "1      7.9     11.0             1996        2014.0  8.964834e+04      184   \n",
       "2      5.9   1345.0             1978        1978.0  3.164907e+07       30   \n",
       "3      6.6   4851.0             1994        1994.0  3.898197e+07        6   \n",
       "4      4.1    549.0             1982        1982.0  9.697023e+06        9   \n",
       "\n",
       "   genres  studio  img_embeddings_2  text_embeddings_1  \n",
       "0      77     431         -0.894800           0.968720  \n",
       "1      30     476         -0.232166           2.145432  \n",
       "2     262     274         -0.023910          -0.921848  \n",
       "3     155     310         -0.093766          -2.752251  \n",
       "4     226     274          1.475944          -0.092226  "
      ]
     },
     "execution_count": 37,
     "metadata": {},
     "output_type": "execute_result"
    }
   ],
   "source": [
    "# df for linear model is ready\n",
    "df_linear.head()"
   ]
  },
  {
   "cell_type": "markdown",
   "metadata": {},
   "source": [
    "##### To create non-linear dataframe, I will use mutual-information"
   ]
  },
  {
   "cell_type": "code",
   "execution_count": 38,
   "metadata": {},
   "outputs": [
    {
     "name": "stdout",
     "output_type": "stream",
     "text": [
      "[0.12067424 0.36477407 0.19344617 0.2390568  0.14593267 0.2037549\n",
      " 0.47972261 0.06419688 0.06694421 0.04706651 0.06963195]\n"
     ]
    }
   ],
   "source": [
    "from sklearn.feature_selection import mutual_info_regression\n",
    "\n",
    "X = df.drop(['revenue'], axis=1)\n",
    "y = df[\"revenue\"]\n",
    "mutual_info = mutual_info_regression(X, y)\n",
    "print(mutual_info)"
   ]
  },
  {
   "cell_type": "code",
   "execution_count": 39,
   "metadata": {},
   "outputs": [],
   "source": [
    "# mutual info for each column seems enough there is no specific column that has low mutual info\n",
    "# therefore i will leave the df as is for the non-linear models"
   ]
  },
  {
   "cell_type": "markdown",
   "metadata": {},
   "source": [
    "#### Dataframes are finally ready for the models!"
   ]
  },
  {
   "cell_type": "markdown",
   "metadata": {},
   "source": [
    "### 4-) Applying Models:"
   ]
  },
  {
   "cell_type": "markdown",
   "metadata": {},
   "source": [
    "#### 4.1-) Applying Linear Models:"
   ]
  },
  {
   "cell_type": "code",
   "execution_count": 40,
   "metadata": {},
   "outputs": [],
   "source": [
    "# First, i need to split the df into train and test set\n",
    "from sklearn.model_selection import train_test_split\n",
    "from sklearn import preprocessing\n",
    "\n",
    "X_linear = df_linear.drop(['revenue'], axis=1)\n",
    "y_linear = df_linear[\"revenue\"]\n",
    "X_train_linear, X_test_linear, y_train_linear, y_test_linear = train_test_split(X_linear, y_linear, test_size=0.33, random_state=42)"
   ]
  },
  {
   "cell_type": "markdown",
   "metadata": {},
   "source": [
    "##### 4.1.1-) Linear Regression:"
   ]
  },
  {
   "cell_type": "code",
   "execution_count": 41,
   "metadata": {},
   "outputs": [],
   "source": [
    "# Applying linear regression\n",
    "from sklearn.linear_model import LinearRegression\n",
    "reg = LinearRegression().fit(X_train_linear, y_train_linear)\n",
    "predictions_linear_reg = reg.predict(X_test_linear)"
   ]
  },
  {
   "cell_type": "markdown",
   "metadata": {},
   "source": [
    "#### 4.2-) Applying Non-Linear Models:"
   ]
  },
  {
   "cell_type": "code",
   "execution_count": 42,
   "metadata": {},
   "outputs": [],
   "source": [
    "# Splitting the df into train and test set\n",
    "X = df.drop(['revenue'], axis=1)\n",
    "y = df[\"revenue\"]\n",
    "X_train, X_test, y_train, y_test = train_test_split(X, y, test_size=0.33, random_state=42)"
   ]
  },
  {
   "cell_type": "markdown",
   "metadata": {},
   "source": [
    "##### 4.2.1-) KNN:"
   ]
  },
  {
   "cell_type": "code",
   "execution_count": 43,
   "metadata": {},
   "outputs": [],
   "source": [
    "# Applying knn\n",
    "# For knn, data needs to be scaled, because knn uses euclidean distance which depends on magnitudes\n",
    "\n",
    "# Scaling\n",
    "minmax = MinMaxScaler()\n",
    "X_train_scaled = minmax.fit_transform(X_train) # train data needs to be fitted and transformed\n",
    "X_test_scaled = minmax.transform(X_test) # test data needs to be only transformed\n",
    "\n",
    "# Applying the model\n",
    "from sklearn.neighbors import KNeighborsRegressor\n",
    "knn = KNeighborsRegressor().fit(X_train_scaled, y_train)\n",
    "predictions_knn = knn.predict(X_test_scaled)"
   ]
  },
  {
   "cell_type": "code",
   "execution_count": 44,
   "metadata": {},
   "outputs": [
    {
     "data": {
      "text/plain": [
       "Text(0, 0.5, 'RMSE')"
      ]
     },
     "execution_count": 44,
     "metadata": {},
     "output_type": "execute_result"
    },
    {
     "data": {
      "image/png": "[encoded data removed]",
      "text/plain": [
       "<Figure size 432x288 with 1 Axes>"
      ]
     },
     "metadata": {
      "needs_background": "light"
     },
     "output_type": "display_data"
    }
   ],
   "source": [
    "from sklearn.metrics import mean_squared_error\n",
    "\n",
    "# Visualizing the success of the model depending on the n parameter\n",
    "x = np.linspace(1.0, 30.0, num=30)\n",
    "y = np.zeros((30))\n",
    "z = np.zeros((30))\n",
    "\n",
    "for i in range(0, 30):\n",
    "    knn = KNeighborsRegressor(n_neighbors=i+1).fit(X_train_scaled, y_train)\n",
    "    predictions_knn_plot = knn.predict(X_test_scaled)    \n",
    "    y[i] = mean_squared_error(y_test, predictions_knn_plot)    \n",
    "\n",
    "plt.plot(x, y)\n",
    "plt.title('KNN Optimization')\n",
    "plt.xlabel('n')\n",
    "plt.ylabel('RMSE')"
   ]
  },
  {
   "cell_type": "code",
   "execution_count": 45,
   "metadata": {},
   "outputs": [
    {
     "name": "stdout",
     "output_type": "stream",
     "text": [
      "Best choice for n is 13\n"
     ]
    }
   ],
   "source": [
    "# let's find the best choice for n using a for loop\n",
    "for i in range(0, 30):\n",
    "    if y[i] == y.min():\n",
    "        print(\"Best choice for n is {}\".format(i+1))\n",
    "        best_choice = (i+1)"
   ]
  },
  {
   "cell_type": "code",
   "execution_count": 46,
   "metadata": {},
   "outputs": [],
   "source": [
    "# Let's apply the optimized model\n",
    "from sklearn.neighbors import KNeighborsRegressor\n",
    "knn = KNeighborsRegressor(n_neighbors=best_choice).fit(X_train_scaled, y_train)\n",
    "predictions_knn_optimized = knn.predict(X_test_scaled)"
   ]
  },
  {
   "cell_type": "markdown",
   "metadata": {},
   "source": [
    "##### 4.2.2-) MLP:"
   ]
  },
  {
   "cell_type": "code",
   "execution_count": 47,
   "metadata": {},
   "outputs": [],
   "source": [
    "# Applying optimized mlp\n",
    "\n",
    "# Hyperparameters are optimized using grid search\n",
    "\n",
    "from sklearn.neural_network import MLPRegressor\n",
    "mlp_optimized = MLPRegressor(max_iter=25000, activation='identity', learning_rate='invscaling')\n",
    "mlp_optimized.fit(X_train, y_train)\n",
    "predictions_mlp_optimized = mlp_optimized.predict(X_test)"
   ]
  },
  {
   "cell_type": "markdown",
   "metadata": {},
   "source": [
    "##### 4.2.3-) Last Model: Random Forest"
   ]
  },
  {
   "cell_type": "code",
   "execution_count": 48,
   "metadata": {},
   "outputs": [],
   "source": [
    "# Let's apply the optimized random forest model\n",
    "\n",
    "# Hyperparameters are optimized using grid search\n",
    "\n",
    "from sklearn.ensemble import RandomForestRegressor\n",
    "forest_regressor_optimized = RandomForestRegressor(max_depth=10,min_samples_split=10, n_estimators=27,\n",
    "random_state=0)\n",
    "forest_regressor_optimized.fit(X_train, y_train)\n",
    "predictions_rf_optimized = forest_regressor_optimized.predict(X_test)"
   ]
  },
  {
   "cell_type": "markdown",
   "metadata": {},
   "source": [
    "#### 4.3-) Comparison:"
   ]
  },
  {
   "cell_type": "code",
   "execution_count": 49,
   "metadata": {},
   "outputs": [],
   "source": [
    "# Let's compare succes of the models \n",
    "from sklearn.metrics import mean_squared_error, mean_absolute_error\n",
    "\n",
    "root_mean_squared_errors = np.array([mean_squared_error(y_test, predictions_linear_reg, squared=False), \n",
    "mean_squared_error(y_test, predictions_knn_optimized, squared=False),\n",
    "mean_squared_error(y_test, predictions_mlp_optimized, squared=False),\n",
    "mean_squared_error(y_test, predictions_rf_optimized, squared=False)\n",
    "])\n",
    "\n",
    "mean_absolute_errors = np.array([mean_absolute_error(y_test, predictions_linear_reg),\n",
    "mean_absolute_error(y_test, predictions_knn_optimized),\n",
    "mean_absolute_error(y_test, predictions_mlp_optimized),\n",
    "mean_absolute_error(y_test, predictions_rf_optimized)\n",
    "])"
   ]
  },
  {
   "cell_type": "code",
   "execution_count": 50,
   "metadata": {},
   "outputs": [
    {
     "name": "stdout",
     "output_type": "stream",
     "text": [
      "RMSE Values for each model:\n",
      "--------------------------------\n",
      "Linear Regression: 66.58m\n",
      "KNN Regression: 70.71m\n",
      "MLP Regression: 68.91m\n",
      "Random Forest Regression: 59.18m\n",
      "\n",
      "\n",
      "MAE Values for each model:\n",
      "--------------------------------\n",
      "Linear Regression: 31.16m\n",
      "KNN Regression: 31.83m\n",
      "MLP Regression: 32.04m\n",
      "Random Forest Regression: 24.72m\n"
     ]
    }
   ],
   "source": [
    "# Printing the numerical results (scaled by a million)\n",
    "print(\"RMSE Values for each model:\")\n",
    "print(\"--------------------------------\")\n",
    "print(\"Linear Regression: {:.2f}m\".format(root_mean_squared_errors[0]/(10**6)))\n",
    "print(\"KNN Regression: {:.2f}m\".format(root_mean_squared_errors[1]/(10**6)))\n",
    "print(\"MLP Regression: {:.2f}m\".format(root_mean_squared_errors[2]/(10**6)))\n",
    "print(\"Random Forest Regression: {:.2f}m\".format(root_mean_squared_errors[3]/(10**6)))\n",
    "\n",
    "print(\"\\n\")\n",
    "\n",
    "print(\"MAE Values for each model:\")\n",
    "print(\"--------------------------------\")\n",
    "print(\"Linear Regression: {:.2f}m\".format(mean_absolute_errors[0]/(10**6)))\n",
    "print(\"KNN Regression: {:.2f}m\".format(mean_absolute_errors[1]/(10**6)))\n",
    "print(\"MLP Regression: {:.2f}m\".format(mean_absolute_errors[2]/(10**6)))\n",
    "print(\"Random Forest Regression: {:.2f}m\".format(mean_absolute_errors[3]/(10**6)))"
   ]
  },
  {
   "cell_type": "code",
   "execution_count": 51,
   "metadata": {},
   "outputs": [
    {
     "data": {
      "text/plain": [
       "(55000000.0, 75000000.0)"
      ]
     },
     "execution_count": 51,
     "metadata": {},
     "output_type": "execute_result"
    },
    {
     "data": {
      "image/png": "[encoded data removed]",
      "text/plain": [
       "<Figure size 500x375 with 1 Axes>"
      ]
     },
     "metadata": {
      "needs_background": "light"
     },
     "output_type": "display_data"
    }
   ],
   "source": [
    "# Let's compare succes of the models in a graph, according to RMSE\n",
    "model_names = np.array(['Linear Reg.', 'KNN', 'MLP', 'R.Forest'])\n",
    "\n",
    "plt.figure(figsize=(4, 3), dpi=125)\n",
    "plt.scatter(model_names, root_mean_squared_errors)\n",
    "plt.title('RMSE')\n",
    "plt.xlabel('model')\n",
    "plt.ylabel('error')\n",
    "plt.ylim((55*(10**6), 75*(10**6)))"
   ]
  },
  {
   "cell_type": "code",
   "execution_count": 52,
   "metadata": {},
   "outputs": [
    {
     "data": {
      "text/plain": [
       "(20000000.0, 40000000.0)"
      ]
     },
     "execution_count": 52,
     "metadata": {},
     "output_type": "execute_result"
    },
    {
     "data": {
      "image/png": "[encoded data removed]",
      "text/plain": [
       "<Figure size 500x375 with 1 Axes>"
      ]
     },
     "metadata": {
      "needs_background": "light"
     },
     "output_type": "display_data"
    }
   ],
   "source": [
    "# Let's compare succes of the models in a graph, according to MAE\n",
    "model_names = np.array(['Linear Reg.', 'KNN', 'MLP', 'R.Forest'])\n",
    "\n",
    "plt.figure(figsize=(4, 3), dpi=125)\n",
    "plt.scatter(model_names, mean_absolute_errors)\n",
    "plt.title('MAE')\n",
    "plt.xlabel('model')\n",
    "plt.ylabel('error')\n",
    "plt.ylim((20*(10**6), 40*(10**6)))"
   ]
  },
  {
   "cell_type": "markdown",
   "metadata": {},
   "source": [
    "### Final: As it can be observed from the results, best model for the task is random forest regression with optimized parameters!"
   ]
  }
 ],
 "metadata": {
  "kernelspec": {
   "display_name": "Python 3 (ipykernel)",
   "language": "python",
   "name": "python3"
  },
  "language_info": {
   "codemirror_mode": {
    "name": "ipython",
    "version": 3
   },
   "file_extension": ".py",
   "mimetype": "text/x-python",
   "name": "python",
   "nbconvert_exporter": "python",
   "pygments_lexer": "ipython3",
   "version": "3.10.6"
  },
  "vscode": {
   "interpreter": {
    "hash": "c4ca0a01c7f585f1fb1db54c0146a0be7a2090a166fc1e16937f7c01c3d392b6"
   }
  }
 },
 "nbformat": 4,
 "nbformat_minor": 2
}
